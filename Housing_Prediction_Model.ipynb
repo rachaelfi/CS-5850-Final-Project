{
 "cells": [
  {
   "cell_type": "code",
   "execution_count": null,
   "metadata": {},
   "outputs": [],
   "source": [
    "import pandas as pd\n",
    "\n",
    "# Load the csv file\n",
    "df = pd.read_csv('Data/zillow2.csv')\n",
    "\n",
    "# Drop rows with missing values for 'sqft' column\n",
    "df.dropna(subset=['Square Feet'], inplace=True)\n",
    "\n",
    "# Save the cleaned dataframe to a new csv file\n",
    "# df.to_csv('houses_cleaned.csv', index=False)\n",
    "print(df)\n"
   ]
  },
  {
   "cell_type": "code",
   "execution_count": null,
   "metadata": {},
   "outputs": [],
   "source": [
    "#Data cleaning and getting rid of outliers\n",
    "\n",
    "# print(df.dtypes)\n",
    "\n",
    "# Outliers\n",
    "df = df.drop(df[df['Address'].isin(['Canyon Plan, Juniper Trail', 'Stanton Plan, Juniper Trail', 'Cambria Plan, Juniper Trail'])].index)\n",
    "df = df.drop(df[df['Price'].isin(['$536,500+','$535,500+', '$607,750+', '$588,750+', '$529,750+', ''])].index)\n",
    "df = df.drop(df[df['Square Feet'].isin(['2,000 sqft','1,860 sqft', '4,000 sqft', '3,680 sqft', '2,971 sqft'])].index)\n",
    "df  = df.drop(df[df['Latitude'].isin(['35.5641381'])].index)\n",
    "df = df.drop(df[df['Longitude'].isin(['-121.0807468'])].index)\n",
    "\n",
    "\n",
    "#Need to make Price and Square Feet into floats and numbers not strings. need to strip the $ and , from price and sqft and , from square feet.\n",
    "df['Price'] = df['Price'].replace(',', '', regex=True)\n",
    "df['Price'] = df['Price'].replace('$','').astype(float)\n",
    "df['Square Feet'] = df['Square Feet'].str.extract('(\\d+)').astype(float)\n",
    "\n",
    "# print(df.dtypes)\n"
   ]
  },
  {
   "cell_type": "code",
   "execution_count": null,
   "metadata": {},
   "outputs": [],
   "source": [
    "# Feature Engineering\n",
    "\n",
    "df['price_per_sqft'] = df['Price'] / df['Square Feet']\n",
    "\n",
    "df"
   ]
  },
  {
   "cell_type": "code",
   "execution_count": null,
   "metadata": {},
   "outputs": [],
   "source": []
  }
 ],
 "metadata": {
  "kernelspec": {
   "display_name": "base",
   "language": "python",
   "name": "python3"
  },
  "language_info": {
   "codemirror_mode": {
    "name": "ipython",
    "version": 3
   },
   "file_extension": ".py",
   "mimetype": "text/x-python",
   "name": "python",
   "nbconvert_exporter": "python",
   "pygments_lexer": "ipython3",
   "version": "3.10.9"
  },
  "orig_nbformat": 4
 },
 "nbformat": 4,
 "nbformat_minor": 2
}
